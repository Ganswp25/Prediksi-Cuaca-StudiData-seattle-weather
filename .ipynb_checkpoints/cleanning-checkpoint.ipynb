{
 "cells": [
  {
   "cell_type": "code",
   "execution_count": 3,
   "id": "9c1ef0c6-1727-45fb-b745-f478ccb2aaad",
   "metadata": {},
   "outputs": [
    {
     "name": "stdout",
     "output_type": "stream",
     "text": [
      "Dataset telah dibersihkan dan disimpan sebagai: seattle-weather-cleaned.csv\n"
     ]
    }
   ],
   "source": [
    "import pandas as pd\n",
    "\n",
    "file_path = \"seattle-weather.csv\"  \n",
    "df = pd.read_csv(file_path)\n",
    "\n",
    "\n",
    "df = df.drop(columns=['date'])\n",
    "\n",
    "\n",
    "df_cleaned = df.drop_duplicates()\n",
    "\n",
    "df_cleaned = df_cleaned.dropna()  \n",
    "\n",
    "# Save the cleaned dataset\n",
    "cleaned_file_path = \"seattle-weather-cleaned.csv\"  \n",
    "df_cleaned.to_csv(cleaned_file_path, index=False)\n",
    "\n",
    "print(\"Dataset telah dibersihkan dan disimpan sebagai:\", cleaned_file_path)"
   ]
  },
  {
   "cell_type": "code",
   "execution_count": null,
   "id": "0036caeb-a6c0-418f-94e5-991483bab22d",
   "metadata": {},
   "outputs": [],
   "source": []
  }
 ],
 "metadata": {
  "kernelspec": {
   "display_name": "Python 3 (ipykernel)",
   "language": "python",
   "name": "python3"
  },
  "language_info": {
   "codemirror_mode": {
    "name": "ipython",
    "version": 3
   },
   "file_extension": ".py",
   "mimetype": "text/x-python",
   "name": "python",
   "nbconvert_exporter": "python",
   "pygments_lexer": "ipython3",
   "version": "3.12.0"
  }
 },
 "nbformat": 4,
 "nbformat_minor": 5
}
