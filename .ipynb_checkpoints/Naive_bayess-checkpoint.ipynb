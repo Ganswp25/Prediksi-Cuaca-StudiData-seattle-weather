{
 "cells": [
  {
   "cell_type": "code",
   "execution_count": 4,
   "id": "2aca5c88-9ba0-46ef-aa30-7247a5026c45",
   "metadata": {},
   "outputs": [
    {
     "data": {
      "application/vnd.jupyter.widget-view+json": {
       "model_id": "87e601878679472d8bb1f6fa65d1a270",
       "version_major": 2,
       "version_minor": 0
      },
      "text/plain": [
       "FloatText(value=0.0, description='Precipitation (mm):')"
      ]
     },
     "metadata": {},
     "output_type": "display_data"
    },
    {
     "data": {
      "application/vnd.jupyter.widget-view+json": {
       "model_id": "8315ae5ff9d74dbda96045486302c2c6",
       "version_major": 2,
       "version_minor": 0
      },
      "text/plain": [
       "FloatText(value=0.0, description='Max Temperature (C):')"
      ]
     },
     "metadata": {},
     "output_type": "display_data"
    },
    {
     "data": {
      "application/vnd.jupyter.widget-view+json": {
       "model_id": "2ad70b0b32a144aa8d9d5fd5a8e5182d",
       "version_major": 2,
       "version_minor": 0
      },
      "text/plain": [
       "FloatText(value=0.0, description='Min Temperature (C):')"
      ]
     },
     "metadata": {},
     "output_type": "display_data"
    },
    {
     "data": {
      "application/vnd.jupyter.widget-view+json": {
       "model_id": "ec6f0be98d6b492e850e071c04f1f338",
       "version_major": 2,
       "version_minor": 0
      },
      "text/plain": [
       "FloatText(value=0.0, description='Wind Speed (km/h):')"
      ]
     },
     "metadata": {},
     "output_type": "display_data"
    },
    {
     "data": {
      "application/vnd.jupyter.widget-view+json": {
       "model_id": "c4c4ccecfdf644ed8c046b1c2da9d348",
       "version_major": 2,
       "version_minor": 0
      },
      "text/plain": [
       "Button(button_style='success', description='Predict', style=ButtonStyle())"
      ]
     },
     "metadata": {},
     "output_type": "display_data"
    },
    {
     "data": {
      "application/vnd.jupyter.widget-view+json": {
       "model_id": "3ee06cd65a6345a6bad0f2ec26fd0a78",
       "version_major": 2,
       "version_minor": 0
      },
      "text/plain": [
       "Button(button_style='warning', description='Reset', style=ButtonStyle())"
      ]
     },
     "metadata": {},
     "output_type": "display_data"
    },
    {
     "data": {
      "application/vnd.jupyter.widget-view+json": {
       "model_id": "e5aad84c68124f948d54d2337effa60e",
       "version_major": 2,
       "version_minor": 0
      },
      "text/plain": [
       "Output()"
      ]
     },
     "metadata": {},
     "output_type": "display_data"
    }
   ],
   "source": [
    "import pandas as pd\n",
    "from sklearn.preprocessing import LabelEncoder, StandardScaler\n",
    "from sklearn.model_selection import train_test_split\n",
    "from sklearn.naive_bayes import GaussianNB\n",
    "from sklearn.metrics import classification_report, accuracy_score\n",
    "from imblearn.over_sampling import SMOTE\n",
    "import ipywidgets as widgets\n",
    "from IPython.display import display, clear_output\n",
    "\n",
    "file_path = 'seattle-weather-cleaned.csv'\n",
    "weather_data = pd.read_csv(file_path)\n",
    "\n",
    "label_encoder = LabelEncoderX\n",
    "weather_data['weather'] = label_encoder.fit_transform(weather_data['weather'])\n",
    "\n",
    "X = weather_data.drop(columns=['weather'])\n",
    "y = weather_data['weather']\n",
    "\n",
    "scaler = StandardScaler()\n",
    "X_scaled = scaler.fit_transform(X)\n",
    "\n",
    "smote = SMOTE(random_state=42)\n",
    "X_resampled, y_resampled = smote.fit_resample(X_scaled, y)\n",
    "\n",
    "X_train, X_test, y_train, y_test = train_test_split(X_resampled, y_resampled, test_size=0.2, random_state=42)\n",
    "\n",
    "alisasi dan melatih model Naive Bayes dengan data pelatihan.\n",
    "nb_model = GaussianNB()\n",
    "nb_model.fit(X_train, y_train)\n",
    "\n",
    "def predict_weather(precipitation, temp_max, temp_min, wind):\n",
    "    input_data = pd.DataFrame([[precipitation, temp_max, temp_min, wind]],\n",
    "                              columns=['precipitation', 'temp_max', 'temp_min', 'wind'])\n",
    "    input_data_scaled = scaler.transform(input_data)\n",
    "    prediction = nb_model.predict(input_data_scaled)\n",
    "    predicted_weather = label_encoder.inverse_transform(prediction)\n",
    "    return predicted_weather[0]\n",
    "\n",
    "precipitation_input = widgets.FloatText(description=\"Precipitation (mm):\")\n",
    "temp_max_input = widgets.FloatText(description=\"Max Temperature (C):\")\n",
    "temp_min_input = widgets.FloatText(description=\"Min Temperature (C):\")\n",
    "wind_input = widgets.FloatText(description=\"Wind Speed (km/h):\")\n",
    "\n",
    "output = widgets.Output()\n",
    "predict_button = widgets.Button(description=\"Predict\", button_style='success')\n",
    "reset_button = widgets.Button(description=\"Reset\", button_style='warning')\n",
    "\n",
    "def on_predict_button_clicked(b):\n",
    "    with output:\n",
    "        clear_output()\n",
    "        precipitation = precipitation_input.value\n",
    "        temp_max = temp_max_input.value\n",
    "        temp_min = temp_min_input.value\n",
    "        wind = wind_input.value\n",
    "        predicted_weather = predict_weather(precipitation, temp_max, temp_min, wind)\n",
    "        print(f'Prediksi Cuacanya: {predicted_weather}')\n",
    "\n",
    "def on_reset_button_clicked(b):\n",
    "    precipitation_input.value = 0.0\n",
    "    temp_max_input.value = 0.0\n",
    "    temp_min_input.value = 0.0\n",
    "    wind_input.value = 0.0\n",
    "    with output:\n",
    "        clear_output()\n",
    "\n",
    "predict_button.on_click(on_predict_button_clicked)\n",
    "reset_button.on_click(on_reset_button_clicked)\n",
    "\n",
    "display(precipitation_input, temp_max_input, temp_min_input, wind_input, predict_button, reset_button, output)"
   ]
  },
  {
   "cell_type": "code",
   "execution_count": null,
   "id": "fffa4bd6-ff68-436f-b4e9-5587c207b8f4",
   "metadata": {},
   "outputs": [],
   "source": []
  }
 ],
 "metadata": {
  "kernelspec": {
   "display_name": "Python 3 (ipykernel)",
   "language": "python",
   "name": "python3"
  },
  "language_info": {
   "codemirror_mode": {
    "name": "ipython",
    "version": 3
   },
   "file_extension": ".py",
   "mimetype": "text/x-python",
   "name": "python",
   "nbconvert_exporter": "python",
   "pygments_lexer": "ipython3",
   "version": "3.12.0"
  }
 },
 "nbformat": 4,
 "nbformat_minor": 5
}
