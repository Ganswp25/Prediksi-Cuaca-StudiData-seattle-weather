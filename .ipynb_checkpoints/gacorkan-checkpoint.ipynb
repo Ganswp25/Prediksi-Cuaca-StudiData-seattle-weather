{
 "cells": [
  {
   "cell_type": "code",
   "execution_count": 6,
   "id": "c5dbf3dc-c92d-4954-bc11-a757cc598e7d",
   "metadata": {},
   "outputs": [
    {
     "name": "stderr",
     "output_type": "stream",
     "text": [
      "C:\\Users\\ASUS\\AppData\\Local\\Programs\\Python\\Python312\\Lib\\site-packages\\sklearn\\metrics\\_classification.py:1531: UndefinedMetricWarning: Precision is ill-defined and being set to 0.0 in labels with no predicted samples. Use `zero_division` parameter to control this behavior.\n",
      "  _warn_prf(average, modifier, f\"{metric.capitalize()} is\", len(result))\n",
      "C:\\Users\\ASUS\\AppData\\Local\\Programs\\Python\\Python312\\Lib\\site-packages\\sklearn\\metrics\\_classification.py:1531: UndefinedMetricWarning: Precision is ill-defined and being set to 0.0 in labels with no predicted samples. Use `zero_division` parameter to control this behavior.\n",
      "  _warn_prf(average, modifier, f\"{metric.capitalize()} is\", len(result))\n",
      "C:\\Users\\ASUS\\AppData\\Local\\Programs\\Python\\Python312\\Lib\\site-packages\\sklearn\\metrics\\_classification.py:1531: UndefinedMetricWarning: Precision is ill-defined and being set to 0.0 in labels with no predicted samples. Use `zero_division` parameter to control this behavior.\n",
      "  _warn_prf(average, modifier, f\"{metric.capitalize()} is\", len(result))\n",
      "2024-07-21 00:21:02.907 \n",
      "  \u001b[33m\u001b[1mWarning:\u001b[0m to view this Streamlit app on a browser, run it with the following\n",
      "  command:\n",
      "\n",
      "    streamlit run C:\\Users\\ASUS\\AppData\\Local\\Programs\\Python\\Python312\\Lib\\site-packages\\ipykernel_launcher.py [ARGUMENTS]\n",
      "2024-07-21 00:21:02.926 Session state does not function when running a script without `streamlit run`\n"
     ]
    }
   ],
   "source": [
    "import pandas as pd\n",
    "import streamlit as st\n",
    "from sklearn.model_selection import train_test_split\n",
    "from sklearn.naive_bayes import GaussianNB\n",
    "from sklearn.metrics import accuracy_score, classification_report\n",
    "\n",
    "# Load the dataset\n",
    "file_path = 'seattle-weather.csv'\n",
    "data = pd.read_csv(file_path)\n",
    "\n",
    "# Encode the 'weather' column as a categorical variable\n",
    "data['weather'] = data['weather'].astype('category').cat.codes\n",
    "\n",
    "# Drop the 'date' column as it is not needed for prediction\n",
    "data = data.drop('date', axis=1)\n",
    "\n",
    "# Define features and target variable\n",
    "X = data.drop('weather', axis=1)\n",
    "y = data['weather']\n",
    "\n",
    "# Split the data into training and testing sets\n",
    "X_train, X_test, y_train, y_test = train_test_split(X, y, test_size=0.2, random_state=42)\n",
    "\n",
    "# Initialize the classifier\n",
    "nb_classifier = GaussianNB()\n",
    "\n",
    "# Train the classifier\n",
    "nb_classifier.fit(X_train, y_train)\n",
    "\n",
    "# Make predictions on the testing set\n",
    "y_pred = nb_classifier.predict(X_test)\n",
    "\n",
    "# Evaluate the classifier\n",
    "accuracy = accuracy_score(y_test, y_pred)\n",
    "report = classification_report(y_test, y_pred)\n",
    "\n",
    "# Streamlit app\n",
    "st.title('Seattle Weather Prediction App')\n",
    "\n",
    "st.subheader('Dataset')\n",
    "st.write(data.head())\n",
    "\n",
    "st.subheader('Model Evaluation')\n",
    "st.write(f'Accuracy: {accuracy}')\n",
    "st.write('Classification Report:')\n",
    "st.text(report)\n",
    "\n",
    "st.subheader('Predict Weather')\n",
    "precipitation = st.number_input('Enter precipitation:', value=0.0)\n",
    "temp_max = st.number_input('Enter max temperature:', value=0.0)\n",
    "temp_min = st.number_input('Enter min temperature:', value=0.0)\n",
    "wind = st.number_input('Enter wind:', value=0.0)\n",
    "\n",
    "if st.button('Predict'):\n",
    "    input_data = pd.DataFrame([[precipitation, temp_max, temp_min, wind]], columns=['precipitation', 'temp_max', 'temp_min', 'wind'])\n",
    "    prediction = nb_classifier.predict(input_data)\n",
    "    weather_labels = {0: 'drizzle', 1: 'fog', 2: 'rain', 3: 'snow', 4: 'sun'}\n",
    "    st.write(f'Predicted weather: {weather_labels[prediction[0]]}')\n"
   ]
  }
 ],
 "metadata": {
  "kernelspec": {
   "display_name": "Python 3 (ipykernel)",
   "language": "python",
   "name": "python3"
  },
  "language_info": {
   "codemirror_mode": {
    "name": "ipython",
    "version": 3
   },
   "file_extension": ".py",
   "mimetype": "text/x-python",
   "name": "python",
   "nbconvert_exporter": "python",
   "pygments_lexer": "ipython3",
   "version": "3.12.0"
  }
 },
 "nbformat": 4,
 "nbformat_minor": 5
}
